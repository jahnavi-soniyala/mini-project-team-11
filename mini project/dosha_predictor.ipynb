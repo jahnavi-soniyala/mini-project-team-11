{
 "cells": [
  {
   "cell_type": "code",
   "execution_count": 2,
   "id": "9aecc28b-3ef9-4651-bce4-1c2db816981f",
   "metadata": {},
   "outputs": [],
   "source": [
    "dosh=[0,0,0]"
   ]
  },
  {
   "cell_type": "code",
   "execution_count": null,
   "id": "0fb34715-8b9d-4a1b-95b8-d4ae8c3e14f5",
   "metadata": {},
   "outputs": [],
   "source": [
    "def inputs(name):\n",
    "    print(\"hi!\",name )\n",
    "    age=int(input(\"enter your age:\"))\n",
    "    gender=input(\"enter your gender(male/female):\")\n",
    "    print(\"answer the following answers by selecting option a,b,c:\")\n",
    "    print(\"BODY FRAME:\\n (a)Thin, bony and small framed. Hardly gain weight\\n (b)Medium build. Can gain or lose weight easily. \\n (c)Large built. Gain weight easily but difficult to lose\")\n",
    "    q1=input(\"enter choice(a/b/c): \")\n",
    "    print(\"WALK AND TALK:\\n (a)Fast walk and talk\\n (b)Moderate and determined walk\\n(c)Slow and steady walk\")\n",
    "    q2=input(\"enter choice(a/b/c): \")\n",
    "    print(\"WEATHER REACTION:\\n (a)Enjoy warm climate but feel uncomfortable in cool westher\\n (b)Enjoy cool weather and dislike warm climate \\n (c)Comfortable for most of the year but prefer summer and spring.Don't like damp climate.\")\n",
    "    q2=input(\"enter choice(a/b/c): \")"
   ]
  },
  {
   "cell_type": "code",
   "execution_count": 5,
   "id": "1bf1b066-bdc7-43da-87fe-c3284a327b5b",
   "metadata": {},
   "outputs": [],
   "source": [
    "def increment(choice):\n",
    "    if choice=='a'or 'A':\n",
    "        dosha[0]=dosha[0]+1\n",
    "    elif choice=='b'or'B':\n",
    "        dosha[1]=dosha[1]+1  \n",
    "    elif choice=='c'or 'C':\n",
    "        dosha[2]=dosha[2]+1\n",
    "    else:\n",
    "        print(\"wrong choice\")\n",
    "    return dosha"
   ]
  }
 ],
 "metadata": {
  "kernelspec": {
   "display_name": "Python 3 (ipykernel)",
   "language": "python",
   "name": "python3"
  },
  "language_info": {
   "codemirror_mode": {
    "name": "ipython",
    "version": 3
   },
   "file_extension": ".py",
   "mimetype": "text/x-python",
   "name": "python",
   "nbconvert_exporter": "python",
   "pygments_lexer": "ipython3",
   "version": "3.11.7"
  }
 },
 "nbformat": 4,
 "nbformat_minor": 5
}
